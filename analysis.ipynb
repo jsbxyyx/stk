{
 "cells": [
  {
   "cell_type": "code",
   "execution_count": null,
   "metadata": {},
   "outputs": [],
   "source": [
    "import mariadb\n",
    "pool = None\n",
    "user = \"root\"\n",
    "password = \"mariadb\"\n",
    "host = \"mariadb.host\"\n",
    "port = 3306\n",
    "database = \"istock\"\n",
    "\n",
    "def initConnectionPool():\n",
    "    global pool\n",
    "    pool = mariadb.ConnectionPool(\n",
    "        user=user,\n",
    "        password=password,\n",
    "        host=host,\n",
    "        port=port,\n",
    "        database=database,\n",
    "        pool_name=\"app\",\n",
    "        pool_size=8\n",
    "    )\n",
    "    return pool\n",
    "\n",
    "\n",
    "def getConnection():\n",
    "    try:\n",
    "        if pool is None:\n",
    "            initConnectionPool()\n",
    "        conn = pool.get_connection()\n",
    "    except mariadb.Error as e:\n",
    "        print(f'Error connecting to MariaDB Platform: {e}')\n",
    "    return conn\n",
    "\n",
    "initConnectionPool()"
   ]
  },
  {
   "cell_type": "code",
   "execution_count": null,
   "metadata": {},
   "outputs": [],
   "source": [
    "import numpy as np\n",
    "import pandas as pd\n",
    "import matplotlib.pyplot as plt"
   ]
  },
  {
   "cell_type": "code",
   "execution_count": null,
   "metadata": {},
   "outputs": [],
   "source": [
    "df = pd.read_sql('select * from stock_kline t where t.code = \"0.002027\"', con=getConnection())"
   ]
  },
  {
   "cell_type": "code",
   "execution_count": null,
   "metadata": {},
   "outputs": [],
   "source": [
    "df['date'] = pd.to_datetime(df['date'], format='%Y-%m-%d')"
   ]
  },
  {
   "cell_type": "code",
   "execution_count": null,
   "metadata": {},
   "outputs": [],
   "source": [
    "df = df.set_index('date')"
   ]
  },
  {
   "cell_type": "code",
   "execution_count": null,
   "metadata": {},
   "outputs": [],
   "source": [
    "last = df['2020':].tail(9)"
   ]
  },
  {
   "cell_type": "code",
   "execution_count": null,
   "metadata": {},
   "outputs": [],
   "source": [
    "last"
   ]
  },
  {
   "cell_type": "code",
   "execution_count": null,
   "metadata": {},
   "outputs": [],
   "source": [
    "\"\"\"\n",
    "n日RSV=（Cn－Ln）/（Hn－Ln）*100\n",
    "公式中，Cn为第n日收盘价；Ln为n日内的最低价；Hn为n日内的最高价。\n",
    "当日K值=2/3*前一日K值+1/3*当日RSV\n",
    "当日D值=2/3*前一日D值+1/3*当日K值\n",
    "J值=3*当日K值-2*当日D值\n",
    "一般n取9\n",
    "\"\"\"\n",
    "cn = last['close'].tail(1)[0]\n",
    "ln = last['low'].min()\n",
    "hn = last['high'].max()\n",
    "rsv = (cn - ln) / (hn - ln) * 100\n",
    "print('cn={},ln={},hn={},rsv={}'.format(cn, ln, hn, rsv))"
   ]
  },
  {
   "cell_type": "code",
   "execution_count": null,
   "metadata": {},
   "outputs": [],
   "source": [
    "kn = (1 - 1 / 3) * 50 + 1 / 3 * rsv\n",
    "dn = (1 - 1 / 3) * 50 + 1 / 3 * kn\n",
    "j = 3 * kn + 2 * dn\n",
    "print('k={},d={},j={}'.format(kn, dn, j))"
   ]
  },
  {
   "cell_type": "code",
   "execution_count": null,
   "metadata": {},
   "outputs": [],
   "source": []
  },
  {
   "cell_type": "code",
   "execution_count": null,
   "metadata": {},
   "outputs": [],
   "source": []
  },
  {
   "cell_type": "code",
   "execution_count": null,
   "metadata": {},
   "outputs": [],
   "source": []
  }
 ],
 "metadata": {
  "kernelspec": {
   "display_name": "Python 3",
   "language": "python",
   "name": "python3"
  },
  "language_info": {
   "codemirror_mode": {
    "name": "ipython",
    "version": 3
   },
   "file_extension": ".py",
   "mimetype": "text/x-python",
   "name": "python",
   "nbconvert_exporter": "python",
   "pygments_lexer": "ipython3",
   "version": "3.7.4"
  }
 },
 "nbformat": 4,
 "nbformat_minor": 4
}
